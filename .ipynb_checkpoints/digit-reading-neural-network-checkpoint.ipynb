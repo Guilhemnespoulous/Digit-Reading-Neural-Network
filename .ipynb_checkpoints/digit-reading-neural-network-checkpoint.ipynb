{
 "cells": [
  {
   "cell_type": "markdown",
   "metadata": {},
   "source": [
    "# Reconnaissance d’écriture par réseaux de neurones\n",
    "## Chargement de la base de données digits disponible sous sklearn"
   ]
  },
  {
   "cell_type": "code",
   "execution_count": 1,
   "metadata": {},
   "outputs": [],
   "source": [
    "from sklearn.datasets import load_digits\n",
    "import matplotlib.pyplot as plt\n",
    "import matplotlib.patches as mpatches\n",
    "import numpy as np\n",
    "from sklearn import *\n",
    "from sklearn.linear_model import *\n",
    "from sklearn.neural_network import *\n",
    "digits = load_digits()"
   ]
  },
  {
   "cell_type": "markdown",
   "metadata": {},
   "source": [
    "## Affichage d'une image"
   ]
  },
  {
   "cell_type": "code",
   "execution_count": 2,
   "metadata": {},
   "outputs": [
    {
     "data": {
      "text/plain": [
       "<Figure size 432x288 with 0 Axes>"
      ]
     },
     "metadata": {},
     "output_type": "display_data"
    },
    {
     "data": {
      "image/png": "[encoded data removed]",
      "text/plain": [
       "<Figure size 288x288 with 1 Axes>"
      ]
     },
     "metadata": {
      "needs_background": "light"
     },
     "output_type": "display_data"
    }
   ],
   "source": [
    "plt.gray()\n",
    "plt.matshow(digits.images[10])\n",
    "plt.show()"
   ]
  },
  {
   "cell_type": "markdown",
   "metadata": {},
   "source": [
    "## Récupération des données et des labels"
   ]
  },
  {
   "cell_type": "code",
   "execution_count": 3,
   "metadata": {},
   "outputs": [],
   "source": [
    "X = digits.data\n",
    "y = digits.target"
   ]
  },
  {
   "cell_type": "markdown",
   "metadata": {},
   "source": [
    "## Affichage du nombre d'exemples par classe"
   ]
  },
  {
   "cell_type": "code",
   "execution_count": 4,
   "metadata": {},
   "outputs": [
    {
     "name": "stdout",
     "output_type": "stream",
     "text": [
      "Il y a 178 exemples d'images de 0 dans le dataset\n",
      "Il y a 182 exemples d'images de 1 dans le dataset\n",
      "Il y a 177 exemples d'images de 2 dans le dataset\n",
      "Il y a 183 exemples d'images de 3 dans le dataset\n",
      "Il y a 181 exemples d'images de 4 dans le dataset\n",
      "Il y a 182 exemples d'images de 5 dans le dataset\n",
      "Il y a 181 exemples d'images de 6 dans le dataset\n",
      "Il y a 179 exemples d'images de 7 dans le dataset\n",
      "Il y a 174 exemples d'images de 8 dans le dataset\n",
      "Il y a 180 exemples d'images de 9 dans le dataset\n"
     ]
    },
    {
     "data": {
      "text/plain": [
       "[None, None, None, None, None, None, None, None, None, None]"
      ]
     },
     "execution_count": 4,
     "metadata": {},
     "output_type": "execute_result"
    }
   ],
   "source": [
    "[print (\"Il y a\", digits.data[digits.target == a].shape[0], \"exemples d'images de\",a,\"dans le dataset\") for a in list(range(10))]\n"
   ]
  },
  {
   "cell_type": "markdown",
   "metadata": {},
   "source": [
    "## Dimensionalité des données"
   ]
  },
  {
   "cell_type": "code",
   "execution_count": 5,
   "metadata": {},
   "outputs": [
    {
     "name": "stdout",
     "output_type": "stream",
     "text": [
      "les données ont 64 dimensions\n",
      "Chaque dimension correspond à un pixel, qui peut prendre les valeurs: [ 0.  1.  2.  3.  4.  5.  6.  7.  8.  9. 10. 11. 12. 13. 14. 15. 16.]\n"
     ]
    }
   ],
   "source": [
    "print(\"les données ont\", X.shape[1], \"dimensions\")\n",
    "print(\"Chaque dimension correspond à un pixel, qui peut prendre les valeurs:\",np.unique(X))"
   ]
  },
  {
   "cell_type": "markdown",
   "metadata": {},
   "source": [
    "## Séparation en base d'apprentissage et base de test"
   ]
  },
  {
   "cell_type": "code",
   "execution_count": 6,
   "metadata": {},
   "outputs": [],
   "source": [
    "X_train, X_test, y_train, y_test = model_selection.train_test_split(X, y, train_size=0.7, test_size=0.3)"
   ]
  },
  {
   "cell_type": "markdown",
   "metadata": {},
   "source": [
    "## Etude de l'influence du nombre de neurones de la couche cachée sur le résultat (attention, ce calcul prends approximativement 30 minutes d'éxécution)"
   ]
  },
  {
   "cell_type": "code",
   "execution_count": null,
   "metadata": {},
   "outputs": [],
   "source": [
    "clfArray = []\n",
    "clfResults = []\n",
    "for i in range (1,50):\n",
    "    clfArray.append(MLPClassifier(hidden_layer_sizes=i, activation='tanh', solver='sgd', batch_size=1, alpha=1, learning_rate='adaptive', verbose=0))\n",
    "    clfArray[i-1].fit(X_train,y_train)\n",
    "    clfResults.append(clfArray[i-1].score(X_test,y_test))\n"
   ]
  },
  {
   "cell_type": "markdown",
   "metadata": {},
   "source": [
    "## Influence du nombre de neurones de la couche cachée sur le taux de reconnaissance"
   ]
  },
  {
   "cell_type": "code",
   "execution_count": null,
   "metadata": {},
   "outputs": [],
   "source": [
    "plt.figure(figsize=(15,7))\n",
    "plt.title(\"Influence du nombre de neurones de la couche cachée sur le taux de reconnaissance\")\n",
    "plt.ylabel('score')\n",
    "plt.xlabel('nombre de neurones de la couche cachée')\n",
    "plt.annotate('méthode du coude : nombre de neurones = 10, score = ' + str(clfResults[10]) , xy= (10,0.68), xytext=( 20,0.5) ,arrowprops=dict(facecolor='black', shrink=0.05),)\n",
    "\n",
    "plt.plot(list(range(1,50)),clfResults)"
   ]
  },
  {
   "cell_type": "markdown",
   "metadata": {},
   "source": [
    "# Cross-validation"
   ]
  },
  {
   "cell_type": "code",
   "execution_count": null,
   "metadata": {},
   "outputs": [],
   "source": [
    "clfCV = MLPClassifier(hidden_layer_sizes=10, activation='tanh',validation_fraction=0.2, solver='sgd', batch_size=1, alpha=1, learning_rate='adaptive', verbose=0)\n",
    "clfCV.fit(X_train,y_train)\n",
    "clfCV.score(X_test,y_test)"
   ]
  },
  {
   "cell_type": "code",
   "execution_count": null,
   "metadata": {},
   "outputs": [],
   "source": []
  }
 ],
 "metadata": {
  "kernelspec": {
   "display_name": "Python 3",
   "language": "python",
   "name": "python3"
  },
  "language_info": {
   "codemirror_mode": {
    "name": "ipython",
    "version": 3
   },
   "file_extension": ".py",
   "mimetype": "text/x-python",
   "name": "python",
   "nbconvert_exporter": "python",
   "pygments_lexer": "ipython3",
   "version": "3.8.5"
  }
 },
 "nbformat": 4,
 "nbformat_minor": 4
}
